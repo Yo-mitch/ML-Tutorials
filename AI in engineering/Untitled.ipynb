{
 "cells": [
  {
   "cell_type": "code",
   "execution_count": null,
   "id": "a887eb38-c7dc-4b03-be28-35e5350dd8b2",
   "metadata": {},
   "outputs": [],
   "source": [
    "!pip install pandas numpy matplotlib seaborn statsmodels scikit-learn\n",
    "\n"
   ]
  },
  {
   "cell_type": "code",
   "execution_count": 11,
   "id": "403f7512-20b1-4364-90cd-f9f49fa7e05a",
   "metadata": {},
   "outputs": [
    {
     "name": "stdout",
     "output_type": "stream",
     "text": [
      "First 3 rows of the dataframe:\n",
      "    tsales     sales  margin  nown  nfull   npart    naux  hoursw   hourspw  \\\n",
      "0   750000  4411.765    41.0   1.0    1.0  1.0000  1.5357      76  16.75596   \n",
      "1  1926395  4280.878    39.0   2.0    2.0  3.0000  1.5357     192  22.49376   \n",
      "2  1250000  4166.667    40.0   1.0    2.0  2.2222  1.4091     114  17.19120   \n",
      "\n",
      "        inv1      inv2  ssize  start  \n",
      "0   17166.67  27177.04    170   41.0  \n",
      "1   17166.67  27177.04    450   39.0  \n",
      "2  292857.20  71570.55    300   40.0  \n",
      "\n",
      "First 2 rows of the extracted dataframe:\n",
      "    tsales  margin  nown      inv1      inv2  ssize  start\n",
      "0   750000    41.0   1.0  17166.67  27177.04    170   41.0\n",
      "1  1926395    39.0   2.0  17166.67  27177.04    450   39.0\n"
     ]
    }
   ],
   "source": [
    "# Importing  necessary libraries\n",
    "import pandas as pd\n",
    "import numpy as np\n",
    "import matplotlib.pyplot as plt\n",
    "import seaborn as sns\n",
    "import statsmodels.api as sm\n",
    "from sklearn.model_selection import train_test_split\n",
    "\n",
    "\n",
    "# Read the CSV and display first 3 rows\n",
    "df = pd.read_csv('Clothing.csv')\n",
    "print(\"First 3 rows of the dataframe:\")\n",
    "print(df.head(3))\n",
    "\n",
    "# Extract specific columns into a new dataframe\n",
    "cols_to_extract = ['tsales', 'margin', 'nown', 'inv1', 'inv2', 'ssize', 'start']\n",
    "df_extracted = df[cols_to_extract]\n",
    "print(\"\\nFirst 2 rows of the extracted dataframe:\")\n",
    "print(df_extracted.head(2))\n",
    "\n"
   ]
  },
  {
   "cell_type": "code",
   "execution_count": 12,
   "id": "9b43094b-35a8-4e71-bd6f-f20fe636b370",
   "metadata": {},
   "outputs": [
    {
     "name": "stdout",
     "output_type": "stream",
     "text": [
      "\n",
      "Summary statistics of the new dataframe:\n",
      "             tsales      margin        nown          inv1           inv2  \\\n",
      "count  4.000000e+02  400.000000  400.000000  4.000000e+02     400.000000   \n",
      "mean   8.335842e+05   38.774230    1.283796  5.825726e+04   27829.217000   \n",
      "std    5.834638e+05    5.218184    0.639773  1.075588e+05   41501.943418   \n",
      "min    5.000000e+04   16.000000    1.000000  1.000000e+03     350.000000   \n",
      "25%    4.953400e+05   37.000000    1.000000  2.000000e+04   10000.000000   \n",
      "50%    6.942270e+05   39.000000    1.000000  2.220704e+04   22859.850000   \n",
      "75%    9.768170e+05   41.000000    1.295225  6.226923e+04   22859.850000   \n",
      "max    5.000000e+06   66.000000   10.000000  1.500000e+06  400000.000000   \n",
      "\n",
      "             ssize       start  \n",
      "count   400.000000  400.000000  \n",
      "mean    151.050000   42.808462  \n",
      "std     112.498254   13.296070  \n",
      "min      16.000000   16.000000  \n",
      "25%      80.000000   37.000000  \n",
      "50%     120.000000   40.000000  \n",
      "75%     190.000000   42.000000  \n",
      "max    1214.000000   90.000000  \n"
     ]
    }
   ],
   "source": [
    "\n",
    " # Display summary statistics\n",
    "print(\"\\nSummary statistics of the new dataframe:\")\n",
    "print(df_extracted.describe())\n",
    "\n",
    "\n"
   ]
  },
  {
   "cell_type": "code",
   "execution_count": 14,
   "id": "78d99d05-c066-4e57-8483-59fffccf5bb4",
   "metadata": {},
   "outputs": [],
   "source": [
    " # Step 6: Create Y variable (dependent variable)\n",
    "Y = df_extracted['tsales']\n"
   ]
  },
  {
   "cell_type": "code",
   "execution_count": 16,
   "id": "d853c1ce-b010-47da-9e91-e3a4ca06b5e5",
   "metadata": {},
   "outputs": [],
   "source": [
    "# Create X variable (independent variables)\n",
    "X = df_extracted.drop('tsales', axis=1)"
   ]
  },
  {
   "cell_type": "code",
   "execution_count": 17,
   "id": "39db3b90-c864-4a05-99ea-6d63c3d83376",
   "metadata": {},
   "outputs": [],
   "source": [
    "# Step 8: Add constant to X variables\n",
    "X = sm.add_constant(X)"
   ]
  },
  {
   "cell_type": "code",
   "execution_count": 18,
   "id": "920d6c97-398a-4fc6-b9b7-af2903b4f818",
   "metadata": {},
   "outputs": [],
   "source": [
    "# Step 9: Split dataset into training and testing sets (70% train, 30% test)\n",
    "X_train, X_test, Y_train, Y_test = train_test_split(X, Y, test_size=0.3, random_state=42)"
   ]
  },
  {
   "cell_type": "code",
   "execution_count": 22,
   "id": "d8e0b7c6-2c7c-4504-a319-a1bcccdbb487",
   "metadata": {},
   "outputs": [],
   "source": [
    "# Step 10: Train a multilinear regression model using OLS\n",
    "model = sm.OLS(Y_train, X_train).fit()"
   ]
  },
  {
   "cell_type": "code",
   "execution_count": 20,
   "id": "21c834a9-09bc-4d28-a613-96ea41cb786f",
   "metadata": {},
   "outputs": [
    {
     "name": "stdout",
     "output_type": "stream",
     "text": [
      "\n",
      "Model Summary:\n",
      "                            OLS Regression Results                            \n",
      "==============================================================================\n",
      "Dep. Variable:                 tsales   R-squared:                       0.360\n",
      "Model:                            OLS   Adj. R-squared:                  0.345\n",
      "Method:                 Least Squares   F-statistic:                     25.54\n",
      "Date:                Mon, 24 Mar 2025   Prob (F-statistic):           4.86e-24\n",
      "Time:                        19:57:47   Log-Likelihood:                -4034.2\n",
      "No. Observations:                 280   AIC:                             8082.\n",
      "Df Residuals:                     273   BIC:                             8108.\n",
      "Df Model:                           6                                         \n",
      "Covariance Type:            nonrobust                                         \n",
      "==============================================================================\n",
      "                 coef    std err          t      P>|t|      [0.025      0.975]\n",
      "------------------------------------------------------------------------------\n",
      "const      -2.082e+05   1.95e+05     -1.066      0.287   -5.93e+05    1.76e+05\n",
      "margin      1.628e+04   5636.240      2.888      0.004    5180.026    2.74e+04\n",
      "nown        7.234e+04    3.8e+04      1.903      0.058   -2488.805    1.47e+05\n",
      "inv1           0.0285      0.261      0.109      0.913      -0.485       0.542\n",
      "inv2           0.4684      0.690      0.679      0.498      -0.890       1.827\n",
      "ssize       2406.1954    243.324      9.889      0.000    1927.166    2885.225\n",
      "start      -1405.2862   2361.284     -0.595      0.552   -6053.927    3243.354\n",
      "==============================================================================\n",
      "Omnibus:                      129.403   Durbin-Watson:                   1.962\n",
      "Prob(Omnibus):                  0.000   Jarque-Bera (JB):              790.786\n",
      "Skew:                           1.784   Prob(JB):                    1.92e-172\n",
      "Kurtosis:                      10.420   Cond. No.                     1.02e+06\n",
      "==============================================================================\n",
      "\n",
      "Notes:\n",
      "[1] Standard Errors assume that the covariance matrix of the errors is correctly specified.\n",
      "[2] The condition number is large, 1.02e+06. This might indicate that there are\n",
      "strong multicollinearity or other numerical problems.\n"
     ]
    }
   ],
   "source": [
    "# Display the model summary\n",
    "print(\"\\nModel Summary:\")\n",
    "print(model.summary())"
   ]
  },
  {
   "cell_type": "code",
   "execution_count": 21,
   "id": "411cd541-9413-41af-906b-49c1c46ccb48",
   "metadata": {},
   "outputs": [
    {
     "name": "stdout",
     "output_type": "stream",
     "text": [
      "\n",
      "Predicted Y values (tsales) from test set:\n",
      "209    6.979755e+05\n",
      "280    1.192597e+06\n",
      "33     6.964314e+05\n",
      "210    7.819335e+05\n",
      "93     7.123115e+05\n",
      "           ...     \n",
      "60     6.916774e+05\n",
      "79     8.220148e+05\n",
      "285    1.254497e+06\n",
      "305    7.027888e+05\n",
      "281    1.295868e+06\n",
      "Length: 120, dtype: float64\n"
     ]
    }
   ],
   "source": [
    "# Step 11: Predict Y values using test X\n",
    "Y_pred = model.predict(X_test)\n",
    "print(\"\\nPredicted Y values (tsales) from test set:\")\n",
    "print(Y_pred)"
   ]
  },
  {
   "cell_type": "code",
   "execution_count": null,
   "id": "00671bcf-ae14-4e37-a328-b8912b0d204d",
   "metadata": {},
   "outputs": [],
   "source": []
  }
 ],
 "metadata": {
  "kernelspec": {
   "display_name": "Python 3 (ipykernel)",
   "language": "python",
   "name": "python3"
  },
  "language_info": {
   "codemirror_mode": {
    "name": "ipython",
    "version": 3
   },
   "file_extension": ".py",
   "mimetype": "text/x-python",
   "name": "python",
   "nbconvert_exporter": "python",
   "pygments_lexer": "ipython3",
   "version": "3.12.3"
  }
 },
 "nbformat": 4,
 "nbformat_minor": 5
}
